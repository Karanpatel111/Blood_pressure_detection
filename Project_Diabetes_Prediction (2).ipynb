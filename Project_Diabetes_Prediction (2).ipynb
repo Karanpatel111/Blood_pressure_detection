{
  "cells": [
    {
      "cell_type": "markdown",
      "metadata": {
        "id": "XN0V2ZOTn4yL"
      },
      "source": [
        "##Diabetes Analysis\n",
        "\n",
        "---------------\n",
        "## Context\n",
        "---------------\n",
        "\n",
        "Diabetes is one of the most frequent diseases worldwide and the number of diabetic patients are growing over the years. The main cause of diabetes remains unknown, yet scientists believe that both genetic factors and environmental lifestyle play a major role in diabetes.\n",
        "\n",
        "A few years ago research was done on a tribe in America which is called the Pima tribe (also known as the Pima Indians). In this tribe, it was found that the ladies are prone to diabetes very early. Several constraints were placed on the selection of these instances from a larger database. In particular, all patients were females at least 21 years old of Pima Indian heritage. \n",
        "\n",
        "-----------------\n",
        "## Objective\n",
        "-----------------\n",
        "\n",
        "Here, we are analyzing different aspects of Diabetes in the Pima tribe by doing Exploratory Data Analysis.\n",
        "\n",
        "-------------------------\n",
        "## Data Dictionary\n",
        "-------------------------\n",
        "\n",
        "The dataset has the following information:\n",
        "\n",
        "* Pregnancies: Number of times pregnant\n",
        "* Glucose: Plasma glucose concentration over 2 hours in an oral glucose tolerance test\n",
        "* BloodPressure: Diastolic blood pressure (mm Hg)\n",
        "* SkinThickness: Triceps skin fold thickness (mm)\n",
        "* Insulin: 2-Hour serum insulin (mu U/ml)\n",
        "* BMI: Body mass index (weight in kg/(height in m)^2)\n",
        "* DiabetesPedigreeFunction: A function which scores likelihood of diabetes based on family history.\n",
        "* Age: Age in years\n",
        "* Outcome : Class variable (0: person is not diabetic or 1: person is diabetic)"
      ]
    },
    {
      "cell_type": "markdown",
      "metadata": {
        "id": "3K1RLcFdn4yg"
      },
      "source": [
        " Importing the necessary libraries and briefly explain the use of each library "
      ]
    },
    {
      "cell_type": "code",
      "execution_count": null,
      "metadata": {
        "id": "g-64vI7On4yi"
      },
      "outputs": [],
      "source": [
        "import numpy as np\n",
        "import pandas as pd\n",
        "\n",
        "import seaborn as sns\n",
        "import matplotlib.pyplot as plt\n",
        "%matplotlib inline\n",
        "\n",
        "# You don't have to explain about these libraries below\n",
        "from sklearn.preprocessing import StandardScaler\n",
        "from sklearn.linear_model import LogisticRegression\n",
        "from sklearn.ensemble import RandomForestClassifier"
      ]
    },
    {
      "cell_type": "markdown",
      "metadata": {
        "id": "ODIs_G9Ln4yr"
      },
      "source": [
        "Read the given dataset"
      ]
    },
    {
      "cell_type": "code",
      "execution_count": null,
      "metadata": {
        "id": "aDpI4UBon4yx"
      },
      "outputs": [],
      "source": [
        "pima = pd.read_csv(\"diabetes.csv\")"
      ]
    },
    {
      "cell_type": "markdown",
      "metadata": {
        "id": "BEvrGTdun4y0"
      },
      "source": [
        "Show the last 5 records of the dataset"
      ]
    },
    {
      "cell_type": "code",
      "execution_count": null,
      "metadata": {
        "colab": {
          "base_uri": "https://localhost:8080/"
        },
        "id": "ZdCwdxx9n4y3",
        "outputId": "bdd75362-4d81-4f5d-ff22-3d30a5ba8ab1"
      },
      "outputs": [
        {
          "output_type": "execute_result",
          "data": {
            "text/plain": [
              "0      50\n",
              "1      31\n",
              "2      32\n",
              "3      21\n",
              "4      33\n",
              "       ..\n",
              "995    21\n",
              "996    42\n",
              "997    29\n",
              "998    28\n",
              "999    29\n",
              "Name: Age, Length: 1000, dtype: int64"
            ]
          },
          "metadata": {},
          "execution_count": 4
        }
      ],
      "source": [
        "print(pima.tail(5))\n",
        "pima['Age']"
      ]
    },
    {
      "cell_type": "markdown",
      "metadata": {
        "id": "bIL2ToMLn4zA"
      },
      "source": [
        "Show the first 5 records of the dataset"
      ]
    },
    {
      "cell_type": "code",
      "execution_count": null,
      "metadata": {
        "colab": {
          "base_uri": "https://localhost:8080/",
          "height": 206
        },
        "id": "qd6h52bon4zQ",
        "outputId": "26151856-8af1-4db7-e614-9c29737f0c05"
      },
      "outputs": [
        {
          "output_type": "execute_result",
          "data": {
            "text/plain": [
              "   Pregnancies  Glucose  BloodPressure  SkinThickness  Insulin   BMI  \\\n",
              "0            6      148             72             35        0  33.6   \n",
              "1            1       85             66             29        0  26.6   \n",
              "2            8      183             64              0        0  23.3   \n",
              "3            1       89             66             23       94  28.1   \n",
              "4            0      137             40             35      168  43.1   \n",
              "\n",
              "   DiabetesPedigreeFunction  Age  Outcome  \n",
              "0                     0.627   50        1  \n",
              "1                     0.351   31        0  \n",
              "2                     0.672   32        1  \n",
              "3                     0.167   21        0  \n",
              "4                     2.288   33        1  "
            ],
            "text/html": [
              "\n",
              "  <div id=\"df-f3feca28-d643-46b9-ac2a-1f5a876b8549\">\n",
              "    <div class=\"colab-df-container\">\n",
              "      <div>\n",
              "<style scoped>\n",
              "    .dataframe tbody tr th:only-of-type {\n",
              "        vertical-align: middle;\n",
              "    }\n",
              "\n",
              "    .dataframe tbody tr th {\n",
              "        vertical-align: top;\n",
              "    }\n",
              "\n",
              "    .dataframe thead th {\n",
              "        text-align: right;\n",
              "    }\n",
              "</style>\n",
              "<table border=\"1\" class=\"dataframe\">\n",
              "  <thead>\n",
              "    <tr style=\"text-align: right;\">\n",
              "      <th></th>\n",
              "      <th>Pregnancies</th>\n",
              "      <th>Glucose</th>\n",
              "      <th>BloodPressure</th>\n",
              "      <th>SkinThickness</th>\n",
              "      <th>Insulin</th>\n",
              "      <th>BMI</th>\n",
              "      <th>DiabetesPedigreeFunction</th>\n",
              "      <th>Age</th>\n",
              "      <th>Outcome</th>\n",
              "    </tr>\n",
              "  </thead>\n",
              "  <tbody>\n",
              "    <tr>\n",
              "      <th>0</th>\n",
              "      <td>6</td>\n",
              "      <td>148</td>\n",
              "      <td>72</td>\n",
              "      <td>35</td>\n",
              "      <td>0</td>\n",
              "      <td>33.6</td>\n",
              "      <td>0.627</td>\n",
              "      <td>50</td>\n",
              "      <td>1</td>\n",
              "    </tr>\n",
              "    <tr>\n",
              "      <th>1</th>\n",
              "      <td>1</td>\n",
              "      <td>85</td>\n",
              "      <td>66</td>\n",
              "      <td>29</td>\n",
              "      <td>0</td>\n",
              "      <td>26.6</td>\n",
              "      <td>0.351</td>\n",
              "      <td>31</td>\n",
              "      <td>0</td>\n",
              "    </tr>\n",
              "    <tr>\n",
              "      <th>2</th>\n",
              "      <td>8</td>\n",
              "      <td>183</td>\n",
              "      <td>64</td>\n",
              "      <td>0</td>\n",
              "      <td>0</td>\n",
              "      <td>23.3</td>\n",
              "      <td>0.672</td>\n",
              "      <td>32</td>\n",
              "      <td>1</td>\n",
              "    </tr>\n",
              "    <tr>\n",
              "      <th>3</th>\n",
              "      <td>1</td>\n",
              "      <td>89</td>\n",
              "      <td>66</td>\n",
              "      <td>23</td>\n",
              "      <td>94</td>\n",
              "      <td>28.1</td>\n",
              "      <td>0.167</td>\n",
              "      <td>21</td>\n",
              "      <td>0</td>\n",
              "    </tr>\n",
              "    <tr>\n",
              "      <th>4</th>\n",
              "      <td>0</td>\n",
              "      <td>137</td>\n",
              "      <td>40</td>\n",
              "      <td>35</td>\n",
              "      <td>168</td>\n",
              "      <td>43.1</td>\n",
              "      <td>2.288</td>\n",
              "      <td>33</td>\n",
              "      <td>1</td>\n",
              "    </tr>\n",
              "  </tbody>\n",
              "</table>\n",
              "</div>\n",
              "      <button class=\"colab-df-convert\" onclick=\"convertToInteractive('df-f3feca28-d643-46b9-ac2a-1f5a876b8549')\"\n",
              "              title=\"Convert this dataframe to an interactive table.\"\n",
              "              style=\"display:none;\">\n",
              "        \n",
              "  <svg xmlns=\"http://www.w3.org/2000/svg\" height=\"24px\"viewBox=\"0 0 24 24\"\n",
              "       width=\"24px\">\n",
              "    <path d=\"M0 0h24v24H0V0z\" fill=\"none\"/>\n",
              "    <path d=\"M18.56 5.44l.94 2.06.94-2.06 2.06-.94-2.06-.94-.94-2.06-.94 2.06-2.06.94zm-11 1L8.5 8.5l.94-2.06 2.06-.94-2.06-.94L8.5 2.5l-.94 2.06-2.06.94zm10 10l.94 2.06.94-2.06 2.06-.94-2.06-.94-.94-2.06-.94 2.06-2.06.94z\"/><path d=\"M17.41 7.96l-1.37-1.37c-.4-.4-.92-.59-1.43-.59-.52 0-1.04.2-1.43.59L10.3 9.45l-7.72 7.72c-.78.78-.78 2.05 0 2.83L4 21.41c.39.39.9.59 1.41.59.51 0 1.02-.2 1.41-.59l7.78-7.78 2.81-2.81c.8-.78.8-2.07 0-2.86zM5.41 20L4 18.59l7.72-7.72 1.47 1.35L5.41 20z\"/>\n",
              "  </svg>\n",
              "      </button>\n",
              "      \n",
              "  <style>\n",
              "    .colab-df-container {\n",
              "      display:flex;\n",
              "      flex-wrap:wrap;\n",
              "      gap: 12px;\n",
              "    }\n",
              "\n",
              "    .colab-df-convert {\n",
              "      background-color: #E8F0FE;\n",
              "      border: none;\n",
              "      border-radius: 50%;\n",
              "      cursor: pointer;\n",
              "      display: none;\n",
              "      fill: #1967D2;\n",
              "      height: 32px;\n",
              "      padding: 0 0 0 0;\n",
              "      width: 32px;\n",
              "    }\n",
              "\n",
              "    .colab-df-convert:hover {\n",
              "      background-color: #E2EBFA;\n",
              "      box-shadow: 0px 1px 2px rgba(60, 64, 67, 0.3), 0px 1px 3px 1px rgba(60, 64, 67, 0.15);\n",
              "      fill: #174EA6;\n",
              "    }\n",
              "\n",
              "    [theme=dark] .colab-df-convert {\n",
              "      background-color: #3B4455;\n",
              "      fill: #D2E3FC;\n",
              "    }\n",
              "\n",
              "    [theme=dark] .colab-df-convert:hover {\n",
              "      background-color: #434B5C;\n",
              "      box-shadow: 0px 1px 3px 1px rgba(0, 0, 0, 0.15);\n",
              "      filter: drop-shadow(0px 1px 2px rgba(0, 0, 0, 0.3));\n",
              "      fill: #FFFFFF;\n",
              "    }\n",
              "  </style>\n",
              "\n",
              "      <script>\n",
              "        const buttonEl =\n",
              "          document.querySelector('#df-f3feca28-d643-46b9-ac2a-1f5a876b8549 button.colab-df-convert');\n",
              "        buttonEl.style.display =\n",
              "          google.colab.kernel.accessAllowed ? 'block' : 'none';\n",
              "\n",
              "        async function convertToInteractive(key) {\n",
              "          const element = document.querySelector('#df-f3feca28-d643-46b9-ac2a-1f5a876b8549');\n",
              "          const dataTable =\n",
              "            await google.colab.kernel.invokeFunction('convertToInteractive',\n",
              "                                                     [key], {});\n",
              "          if (!dataTable) return;\n",
              "\n",
              "          const docLinkHtml = 'Like what you see? Visit the ' +\n",
              "            '<a target=\"_blank\" href=https://colab.research.google.com/notebooks/data_table.ipynb>data table notebook</a>'\n",
              "            + ' to learn more about interactive tables.';\n",
              "          element.innerHTML = '';\n",
              "          dataTable['output_type'] = 'display_data';\n",
              "          await google.colab.output.renderOutput(dataTable, element);\n",
              "          const docLink = document.createElement('div');\n",
              "          docLink.innerHTML = docLinkHtml;\n",
              "          element.appendChild(docLink);\n",
              "        }\n",
              "      </script>\n",
              "    </div>\n",
              "  </div>\n",
              "  "
            ]
          },
          "metadata": {},
          "execution_count": 4
        }
      ],
      "source": [
        "pima.head(5)"
      ]
    },
    {
      "cell_type": "markdown",
      "metadata": {
        "id": "cn82nHkdn4zY"
      },
      "source": [
        "Find the dimension of the `pima` dataframe"
      ]
    },
    {
      "cell_type": "code",
      "execution_count": null,
      "metadata": {
        "colab": {
          "base_uri": "https://localhost:8080/"
        },
        "id": "KNciEq9tn4zd",
        "outputId": "0f31dcef-e643-4f01-95ac-dcf1e90c9462"
      },
      "outputs": [
        {
          "output_type": "execute_result",
          "data": {
            "text/plain": [
              "(1000, 9)"
            ]
          },
          "metadata": {},
          "execution_count": 5
        }
      ],
      "source": [
        "pima.shape"
      ]
    },
    {
      "cell_type": "markdown",
      "metadata": {
        "id": "BhatU3-Bn4zg"
      },
      "source": [
        "we got (1000,9) as a answer it means we have total 1000 record in this dataset and total 9 features as a columns in this dataset\n"
      ]
    },
    {
      "cell_type": "markdown",
      "metadata": {
        "id": "h8h6DVfcn4zi"
      },
      "source": [
        "Find the size of the `pima` dataframe"
      ]
    },
    {
      "cell_type": "code",
      "execution_count": null,
      "metadata": {
        "colab": {
          "base_uri": "https://localhost:8080/"
        },
        "id": "Fabu8QVkn4zj",
        "outputId": "ce803269-acb4-407d-86d4-1003ccc3e212"
      },
      "outputs": [
        {
          "output_type": "execute_result",
          "data": {
            "text/plain": [
              "9000"
            ]
          },
          "metadata": {},
          "execution_count": 6
        }
      ],
      "source": [
        "pima.size"
      ]
    },
    {
      "cell_type": "markdown",
      "metadata": {
        "id": "EabGin4Jn4zl"
      },
      "source": [
        "the size of the dataset means total number of element inside the datset or multiplication of total number of rows and columns\n"
      ]
    },
    {
      "cell_type": "markdown",
      "metadata": {
        "id": "r7OwGqiCn4zn"
      },
      "source": [
        "Display the data types of all the variables in the data set\n"
      ]
    },
    {
      "cell_type": "code",
      "execution_count": null,
      "metadata": {
        "colab": {
          "base_uri": "https://localhost:8080/"
        },
        "id": "oIH2CJW5n4zp",
        "outputId": "e6cb5c58-326a-4e79-cbf9-57363aebe486"
      },
      "outputs": [
        {
          "output_type": "execute_result",
          "data": {
            "text/plain": [
              "Pregnancies                   int64\n",
              "Glucose                       int64\n",
              "BloodPressure                 int64\n",
              "SkinThickness                 int64\n",
              "Insulin                       int64\n",
              "BMI                         float64\n",
              "DiabetesPedigreeFunction    float64\n",
              "Age                           int64\n",
              "Outcome                       int64\n",
              "dtype: object"
            ]
          },
          "metadata": {},
          "execution_count": 7
        }
      ],
      "source": [
        "pima.dtypes"
      ]
    },
    {
      "cell_type": "markdown",
      "metadata": {
        "id": "S9I-bkbkn4zs"
      },
      "source": [
        "missing values in the `pima` dataframe"
      ]
    },
    {
      "cell_type": "code",
      "execution_count": null,
      "metadata": {
        "colab": {
          "base_uri": "https://localhost:8080/"
        },
        "id": "IfLXd_vNn4zy",
        "outputId": "f5e764b9-0406-4f95-9d9c-3ad708ede3aa"
      },
      "outputs": [
        {
          "output_type": "execute_result",
          "data": {
            "text/plain": [
              "False"
            ]
          },
          "metadata": {},
          "execution_count": 8
        }
      ],
      "source": [
        "pima.isnull().values.any()"
      ]
    },
    {
      "cell_type": "markdown",
      "metadata": {
        "id": "Gf1in0wvn4z1"
      },
      "source": [
        "isnull method check if there is any missing value or not and any() method returns the boolean true or false so that we can know is there any missing value or not?\n"
      ]
    },
    {
      "cell_type": "markdown",
      "metadata": {
        "id": "ldZKyoNnn4z9"
      },
      "source": [
        "summary statistics for all variables except for  `'Outcome'` variable"
      ]
    },
    {
      "cell_type": "code",
      "execution_count": null,
      "metadata": {
        "colab": {
          "base_uri": "https://localhost:8080/",
          "height": 300
        },
        "id": "YSmHR-Yln4z-",
        "outputId": "a0840262-fbf5-4f8a-fc4f-173a4bb70174"
      },
      "outputs": [
        {
          "output_type": "execute_result",
          "data": {
            "text/plain": [
              "       Pregnancies     Glucose  BloodPressure  SkinThickness      Insulin  \\\n",
              "count  1000.000000  1000.00000    1000.000000    1000.000000  1000.000000   \n",
              "mean      4.051000   125.21600      69.072000      20.755000    83.086000   \n",
              "std       3.325576    32.27772      20.465328      16.008599   117.255326   \n",
              "min       0.000000     0.00000       0.000000       0.000000     0.000000   \n",
              "25%       1.000000   102.00000      64.000000       0.000000     0.000000   \n",
              "50%       3.000000   122.00000      72.000000      24.000000    23.000000   \n",
              "75%       6.000000   146.00000      80.000000      33.000000   133.500000   \n",
              "max      17.000000   199.00000     122.000000      99.000000   846.000000   \n",
              "\n",
              "               BMI  DiabetesPedigreeFunction          Age  \n",
              "count  1000.000000               1000.000000  1000.000000  \n",
              "mean     32.664772                  0.494090    33.830000  \n",
              "std       7.563614                  0.322158    11.268189  \n",
              "min       0.000000                  0.078000    21.000000  \n",
              "25%      28.275000                  0.258750    25.000000  \n",
              "50%      32.800000                  0.408500    30.000000  \n",
              "75%      36.900000                  0.658500    41.000000  \n",
              "max      67.100000                  2.420000    81.000000  "
            ],
            "text/html": [
              "\n",
              "  <div id=\"df-fca100ec-9756-4bab-a424-5c3cfb9da7f5\">\n",
              "    <div class=\"colab-df-container\">\n",
              "      <div>\n",
              "<style scoped>\n",
              "    .dataframe tbody tr th:only-of-type {\n",
              "        vertical-align: middle;\n",
              "    }\n",
              "\n",
              "    .dataframe tbody tr th {\n",
              "        vertical-align: top;\n",
              "    }\n",
              "\n",
              "    .dataframe thead th {\n",
              "        text-align: right;\n",
              "    }\n",
              "</style>\n",
              "<table border=\"1\" class=\"dataframe\">\n",
              "  <thead>\n",
              "    <tr style=\"text-align: right;\">\n",
              "      <th></th>\n",
              "      <th>Pregnancies</th>\n",
              "      <th>Glucose</th>\n",
              "      <th>BloodPressure</th>\n",
              "      <th>SkinThickness</th>\n",
              "      <th>Insulin</th>\n",
              "      <th>BMI</th>\n",
              "      <th>DiabetesPedigreeFunction</th>\n",
              "      <th>Age</th>\n",
              "    </tr>\n",
              "  </thead>\n",
              "  <tbody>\n",
              "    <tr>\n",
              "      <th>count</th>\n",
              "      <td>1000.000000</td>\n",
              "      <td>1000.00000</td>\n",
              "      <td>1000.000000</td>\n",
              "      <td>1000.000000</td>\n",
              "      <td>1000.000000</td>\n",
              "      <td>1000.000000</td>\n",
              "      <td>1000.000000</td>\n",
              "      <td>1000.000000</td>\n",
              "    </tr>\n",
              "    <tr>\n",
              "      <th>mean</th>\n",
              "      <td>4.051000</td>\n",
              "      <td>125.21600</td>\n",
              "      <td>69.072000</td>\n",
              "      <td>20.755000</td>\n",
              "      <td>83.086000</td>\n",
              "      <td>32.664772</td>\n",
              "      <td>0.494090</td>\n",
              "      <td>33.830000</td>\n",
              "    </tr>\n",
              "    <tr>\n",
              "      <th>std</th>\n",
              "      <td>3.325576</td>\n",
              "      <td>32.27772</td>\n",
              "      <td>20.465328</td>\n",
              "      <td>16.008599</td>\n",
              "      <td>117.255326</td>\n",
              "      <td>7.563614</td>\n",
              "      <td>0.322158</td>\n",
              "      <td>11.268189</td>\n",
              "    </tr>\n",
              "    <tr>\n",
              "      <th>min</th>\n",
              "      <td>0.000000</td>\n",
              "      <td>0.00000</td>\n",
              "      <td>0.000000</td>\n",
              "      <td>0.000000</td>\n",
              "      <td>0.000000</td>\n",
              "      <td>0.000000</td>\n",
              "      <td>0.078000</td>\n",
              "      <td>21.000000</td>\n",
              "    </tr>\n",
              "    <tr>\n",
              "      <th>25%</th>\n",
              "      <td>1.000000</td>\n",
              "      <td>102.00000</td>\n",
              "      <td>64.000000</td>\n",
              "      <td>0.000000</td>\n",
              "      <td>0.000000</td>\n",
              "      <td>28.275000</td>\n",
              "      <td>0.258750</td>\n",
              "      <td>25.000000</td>\n",
              "    </tr>\n",
              "    <tr>\n",
              "      <th>50%</th>\n",
              "      <td>3.000000</td>\n",
              "      <td>122.00000</td>\n",
              "      <td>72.000000</td>\n",
              "      <td>24.000000</td>\n",
              "      <td>23.000000</td>\n",
              "      <td>32.800000</td>\n",
              "      <td>0.408500</td>\n",
              "      <td>30.000000</td>\n",
              "    </tr>\n",
              "    <tr>\n",
              "      <th>75%</th>\n",
              "      <td>6.000000</td>\n",
              "      <td>146.00000</td>\n",
              "      <td>80.000000</td>\n",
              "      <td>33.000000</td>\n",
              "      <td>133.500000</td>\n",
              "      <td>36.900000</td>\n",
              "      <td>0.658500</td>\n",
              "      <td>41.000000</td>\n",
              "    </tr>\n",
              "    <tr>\n",
              "      <th>max</th>\n",
              "      <td>17.000000</td>\n",
              "      <td>199.00000</td>\n",
              "      <td>122.000000</td>\n",
              "      <td>99.000000</td>\n",
              "      <td>846.000000</td>\n",
              "      <td>67.100000</td>\n",
              "      <td>2.420000</td>\n",
              "      <td>81.000000</td>\n",
              "    </tr>\n",
              "  </tbody>\n",
              "</table>\n",
              "</div>\n",
              "      <button class=\"colab-df-convert\" onclick=\"convertToInteractive('df-fca100ec-9756-4bab-a424-5c3cfb9da7f5')\"\n",
              "              title=\"Convert this dataframe to an interactive table.\"\n",
              "              style=\"display:none;\">\n",
              "        \n",
              "  <svg xmlns=\"http://www.w3.org/2000/svg\" height=\"24px\"viewBox=\"0 0 24 24\"\n",
              "       width=\"24px\">\n",
              "    <path d=\"M0 0h24v24H0V0z\" fill=\"none\"/>\n",
              "    <path d=\"M18.56 5.44l.94 2.06.94-2.06 2.06-.94-2.06-.94-.94-2.06-.94 2.06-2.06.94zm-11 1L8.5 8.5l.94-2.06 2.06-.94-2.06-.94L8.5 2.5l-.94 2.06-2.06.94zm10 10l.94 2.06.94-2.06 2.06-.94-2.06-.94-.94-2.06-.94 2.06-2.06.94z\"/><path d=\"M17.41 7.96l-1.37-1.37c-.4-.4-.92-.59-1.43-.59-.52 0-1.04.2-1.43.59L10.3 9.45l-7.72 7.72c-.78.78-.78 2.05 0 2.83L4 21.41c.39.39.9.59 1.41.59.51 0 1.02-.2 1.41-.59l7.78-7.78 2.81-2.81c.8-.78.8-2.07 0-2.86zM5.41 20L4 18.59l7.72-7.72 1.47 1.35L5.41 20z\"/>\n",
              "  </svg>\n",
              "      </button>\n",
              "      \n",
              "  <style>\n",
              "    .colab-df-container {\n",
              "      display:flex;\n",
              "      flex-wrap:wrap;\n",
              "      gap: 12px;\n",
              "    }\n",
              "\n",
              "    .colab-df-convert {\n",
              "      background-color: #E8F0FE;\n",
              "      border: none;\n",
              "      border-radius: 50%;\n",
              "      cursor: pointer;\n",
              "      display: none;\n",
              "      fill: #1967D2;\n",
              "      height: 32px;\n",
              "      padding: 0 0 0 0;\n",
              "      width: 32px;\n",
              "    }\n",
              "\n",
              "    .colab-df-convert:hover {\n",
              "      background-color: #E2EBFA;\n",
              "      box-shadow: 0px 1px 2px rgba(60, 64, 67, 0.3), 0px 1px 3px 1px rgba(60, 64, 67, 0.15);\n",
              "      fill: #174EA6;\n",
              "    }\n",
              "\n",
              "    [theme=dark] .colab-df-convert {\n",
              "      background-color: #3B4455;\n",
              "      fill: #D2E3FC;\n",
              "    }\n",
              "\n",
              "    [theme=dark] .colab-df-convert:hover {\n",
              "      background-color: #434B5C;\n",
              "      box-shadow: 0px 1px 3px 1px rgba(0, 0, 0, 0.15);\n",
              "      filter: drop-shadow(0px 1px 2px rgba(0, 0, 0, 0.3));\n",
              "      fill: #FFFFFF;\n",
              "    }\n",
              "  </style>\n",
              "\n",
              "      <script>\n",
              "        const buttonEl =\n",
              "          document.querySelector('#df-fca100ec-9756-4bab-a424-5c3cfb9da7f5 button.colab-df-convert');\n",
              "        buttonEl.style.display =\n",
              "          google.colab.kernel.accessAllowed ? 'block' : 'none';\n",
              "\n",
              "        async function convertToInteractive(key) {\n",
              "          const element = document.querySelector('#df-fca100ec-9756-4bab-a424-5c3cfb9da7f5');\n",
              "          const dataTable =\n",
              "            await google.colab.kernel.invokeFunction('convertToInteractive',\n",
              "                                                     [key], {});\n",
              "          if (!dataTable) return;\n",
              "\n",
              "          const docLinkHtml = 'Like what you see? Visit the ' +\n",
              "            '<a target=\"_blank\" href=https://colab.research.google.com/notebooks/data_table.ipynb>data table notebook</a>'\n",
              "            + ' to learn more about interactive tables.';\n",
              "          element.innerHTML = '';\n",
              "          dataTable['output_type'] = 'display_data';\n",
              "          await google.colab.output.renderOutput(dataTable, element);\n",
              "          const docLink = document.createElement('div');\n",
              "          docLink.innerHTML = docLinkHtml;\n",
              "          element.appendChild(docLink);\n",
              "        }\n",
              "      </script>\n",
              "    </div>\n",
              "  </div>\n",
              "  "
            ]
          },
          "metadata": {},
          "execution_count": 9
        }
      ],
      "source": [
        "pima.iloc[:,:-1].describe()"
      ]
    },
    {
      "cell_type": "markdown",
      "metadata": {
        "id": "s4At3vxvn4z_"
      },
      "source": [
        "1. count : total number of records in dataset\n",
        "2. mean : mean of total records in respective field\n",
        "3. std : standard deviation of total records in respective features(coloumn)\n",
        "4. min : minimum value in respective column\n",
        "5. 25% : 25% data have value 1 or below\n",
        "6. 50% : 50% data have value 3 or below\n",
        "7. 75% : 75% data have value 6 or below\n",
        "8. max : maximum values in respective field\n"
      ]
    },
    {
      "cell_type": "markdown",
      "metadata": {
        "id": "t5Ir3kjdn40D"
      },
      "source": [
        "distribution plot for the variable 'BloodPressure'"
      ]
    },
    {
      "cell_type": "code",
      "execution_count": null,
      "metadata": {
        "colab": {
          "base_uri": "https://localhost:8080/",
          "height": 369
        },
        "id": "wV9NbeCdn40E",
        "outputId": "01fe36be-89fb-407a-fc06-a294dcc73727"
      },
      "outputs": [
        {
          "output_type": "display_data",
          "data": {
            "text/plain": [
              "<Figure size 360x360 with 1 Axes>"
            ],
            "image/png": "[encoded data removed]"
          },
          "metadata": {
            "needs_background": "light"
          }
        }
      ],
      "source": [
        "sns.displot(pima['BloodPressure'], kind='kde')\n",
        "plt.show()"
      ]
    },
    {
      "cell_type": "markdown",
      "metadata": {
        "id": "xgFAc6u8n40G"
      },
      "source": [
        "using displot with kernel density estimation. we can observe that data  is distribute most in between 40-120 for blood pressure.\n"
      ]
    },
    {
      "cell_type": "code",
      "execution_count": null,
      "metadata": {
        "colab": {
          "base_uri": "https://localhost:8080/"
        },
        "id": "cQnWRjjIn40J",
        "outputId": "3eabda8e-62db-40f5-b68e-467aad27131b"
      },
      "outputs": [
        {
          "output_type": "execute_result",
          "data": {
            "text/plain": [
              "661    42.9\n",
              "Name: BMI, dtype: float64"
            ]
          },
          "metadata": {},
          "execution_count": 11
        }
      ],
      "source": [
        "pima[pima['Glucose']==pima['Glucose'].max()]['BMI']"
      ]
    },
    {
      "cell_type": "markdown",
      "metadata": {
        "id": "AvT1QpK9n40M"
      },
      "source": [
        "max() function used to find maximum value for features name BMI\n"
      ]
    },
    {
      "cell_type": "markdown",
      "metadata": {
        "id": "2EGvnprZn40P"
      },
      "source": [
        "#mean of the variable 'BMI' \n",
        "#median of the variable 'BMI' \n",
        "#mode of the variable 'BMI'\n"
      ]
    },
    {
      "cell_type": "code",
      "execution_count": null,
      "metadata": {
        "colab": {
          "base_uri": "https://localhost:8080/"
        },
        "id": "v3ML75lQn40V",
        "outputId": "f49a9e0e-aa3d-4b9e-9e3d-c89081a53c68"
      },
      "outputs": [
        {
          "output_type": "stream",
          "name": "stdout",
          "text": [
            "32.664772391408796\n",
            "32.8\n",
            "32.0\n"
          ]
        }
      ],
      "source": [
        "m1 = pima['BMI'].mean()  #Mean\n",
        "print(m1)\n",
        "m2 = pima['BMI'].median()  #Median\n",
        "print(m2)\n",
        "m3 = pima['BMI'].mode()[0]  #Mode\n",
        "print(m3)"
      ]
    },
    {
      "cell_type": "markdown",
      "metadata": {
        "id": "0ydebkCGn40Y"
      },
      "source": [
        "mean , median and mode of BMI is 32.66 , 32.8 and 32 respectively and this 3 are central tendecy measures and they are not perfectly equal.\n"
      ]
    },
    {
      "cell_type": "markdown",
      "metadata": {
        "id": "wcrwZ0aIn40Z"
      },
      "source": [
        "finding How many women's `'Glucose'` level is above the mean level of `'Glucose'`"
      ]
    },
    {
      "cell_type": "code",
      "execution_count": null,
      "metadata": {
        "colab": {
          "base_uri": "https://localhost:8080/"
        },
        "id": "WBgMlzEKn40a",
        "outputId": "7fccd7f3-9285-4604-e97d-2a6c8e2ea0be"
      },
      "outputs": [
        {
          "output_type": "execute_result",
          "data": {
            "text/plain": [
              "449"
            ]
          },
          "metadata": {},
          "execution_count": 13
        }
      ],
      "source": [
        "pima[pima['Glucose']>pima['Glucose'].mean()].shape[0]"
      ]
    },
    {
      "cell_type": "markdown",
      "metadata": {
        "id": "Bq2KQT4Hn40b"
      },
      "source": [
        "total 449 women's glucose level is above the mean level of glucose\n"
      ]
    },
    {
      "cell_type": "markdown",
      "metadata": {
        "id": "lW3YDYxYn40f"
      },
      "source": [
        "Create the pairplot for variables `'Glucose'`, `'SkinThickness'` and `'DiabetesPedigreeFunction'`"
      ]
    },
    {
      "cell_type": "code",
      "execution_count": null,
      "metadata": {
        "colab": {
          "base_uri": "https://localhost:8080/",
          "height": 550
        },
        "id": "NLAKmU4Fn40h",
        "outputId": "154eec48-93c0-4c85-bc0e-cd113bfc4cb7"
      },
      "outputs": [
        {
          "output_type": "display_data",
          "data": {
            "text/plain": [
              "<Figure size 593.25x540 with 12 Axes>"
            ],
            "image/png": "[encoded data removed]"
          },
          "metadata": {
            "needs_background": "light"
          }
        }
      ],
      "source": [
        "sns.pairplot(data=pima, vars=['Glucose', 'SkinThickness', 'DiabetesPedigreeFunction'], hue='Outcome')\n",
        "plt.show()"
      ]
    },
    {
      "cell_type": "markdown",
      "metadata": {
        "id": "67BPdei9n40j"
      },
      "source": [
        "Plot the scatterplot between `'Glucose'` and `'Insulin'`"
      ]
    },
    {
      "cell_type": "code",
      "execution_count": null,
      "metadata": {
        "scrolled": false,
        "colab": {
          "base_uri": "https://localhost:8080/",
          "height": 279
        },
        "id": "dm2RHjlUn40k",
        "outputId": "e6be315c-b7af-4423-a381-a9a111dd6e54"
      },
      "outputs": [
        {
          "output_type": "display_data",
          "data": {
            "text/plain": [
              "<Figure size 432x288 with 1 Axes>"
            ],
            "image/png": "[encoded data removed]"
          },
          "metadata": {
            "needs_background": "light"
          }
        }
      ],
      "source": [
        "sns.scatterplot(x='Glucose',y='Insulin',data=pima)\n",
        "plt.show()"
      ]
    },
    {
      "cell_type": "markdown",
      "metadata": {
        "id": "j3IP14F4n40l"
      },
      "source": [
        "As we can in scatter plot , as glucose level is increase the insulin level is also increase.  lots of data for higher glucose value have insulin nearly lied to 0 .\n"
      ]
    },
    {
      "cell_type": "markdown",
      "metadata": {
        "id": "j21rygoun40m"
      },
      "source": [
        "Plot the boxplot for the 'Age' variable"
      ]
    },
    {
      "cell_type": "code",
      "execution_count": null,
      "metadata": {
        "colab": {
          "base_uri": "https://localhost:8080/",
          "height": 281
        },
        "id": "viz7rKQJn40n",
        "outputId": "51482b13-7b4e-4b0f-d921-922c426d149c"
      },
      "outputs": [
        {
          "output_type": "display_data",
          "data": {
            "text/plain": [
              "<Figure size 432x288 with 1 Axes>"
            ],
            "image/png": "[encoded data removed]"
          },
          "metadata": {
            "needs_background": "light"
          }
        }
      ],
      "source": [
        "plt.boxplot(pima['Age'])\n",
        "\n",
        "plt.title('Boxplot of Age')\n",
        "plt.ylabel('Age')\n",
        "plt.show()"
      ]
    },
    {
      "cell_type": "markdown",
      "metadata": {
        "id": "hBL6C_Kdn40p"
      },
      "source": [
        "using box plot we can find outliers in our dataset. as we can see that there some data for age which is lies outside of box.\n"
      ]
    },
    {
      "cell_type": "markdown",
      "metadata": {
        "id": "CxtDIMgXn40r"
      },
      "source": [
        "the correlation matrix"
      ]
    },
    {
      "cell_type": "code",
      "execution_count": null,
      "metadata": {
        "id": "Kl4GsWr4n40s",
        "colab": {
          "base_uri": "https://localhost:8080/",
          "height": 300
        },
        "outputId": "d342e288-aabd-4656-ac5d-e13ac7dbc080"
      },
      "outputs": [
        {
          "output_type": "execute_result",
          "data": {
            "text/plain": [
              "                          Pregnancies   Glucose  BloodPressure  SkinThickness  \\\n",
              "Pregnancies                  1.000000  0.112930       0.127463      -0.080033   \n",
              "Glucose                      0.112930  1.000000       0.134993       0.050656   \n",
              "BloodPressure                0.127463  0.134993       1.000000       0.249063   \n",
              "SkinThickness               -0.080033  0.050656       0.249063       1.000000   \n",
              "Insulin                     -0.064909  0.334175       0.117369       0.472663   \n",
              "BMI                          0.012920  0.222138       0.247275       0.387055   \n",
              "DiabetesPedigreeFunction    -0.025452  0.127004       0.059303       0.214026   \n",
              "Age                          0.548665  0.255567       0.240416      -0.121236   \n",
              "\n",
              "                           Insulin       BMI  DiabetesPedigreeFunction  \\\n",
              "Pregnancies              -0.064909  0.012920                 -0.025452   \n",
              "Glucose                   0.334175  0.222138                  0.127004   \n",
              "BloodPressure             0.117369  0.247275                  0.059303   \n",
              "SkinThickness             0.472663  0.387055                  0.214026   \n",
              "Insulin                   1.000000  0.198281                  0.180284   \n",
              "BMI                       0.198281  1.000000                  0.163270   \n",
              "DiabetesPedigreeFunction  0.180284  0.163270                  1.000000   \n",
              "Age                      -0.039887  0.023921                  0.006809   \n",
              "\n",
              "                               Age  \n",
              "Pregnancies               0.548665  \n",
              "Glucose                   0.255567  \n",
              "BloodPressure             0.240416  \n",
              "SkinThickness            -0.121236  \n",
              "Insulin                  -0.039887  \n",
              "BMI                       0.023921  \n",
              "DiabetesPedigreeFunction  0.006809  \n",
              "Age                       1.000000  "
            ],
            "text/html": [
              "\n",
              "  <div id=\"df-dc0bd6ab-2d2b-4a60-9e9f-853235592d49\">\n",
              "    <div class=\"colab-df-container\">\n",
              "      <div>\n",
              "<style scoped>\n",
              "    .dataframe tbody tr th:only-of-type {\n",
              "        vertical-align: middle;\n",
              "    }\n",
              "\n",
              "    .dataframe tbody tr th {\n",
              "        vertical-align: top;\n",
              "    }\n",
              "\n",
              "    .dataframe thead th {\n",
              "        text-align: right;\n",
              "    }\n",
              "</style>\n",
              "<table border=\"1\" class=\"dataframe\">\n",
              "  <thead>\n",
              "    <tr style=\"text-align: right;\">\n",
              "      <th></th>\n",
              "      <th>Pregnancies</th>\n",
              "      <th>Glucose</th>\n",
              "      <th>BloodPressure</th>\n",
              "      <th>SkinThickness</th>\n",
              "      <th>Insulin</th>\n",
              "      <th>BMI</th>\n",
              "      <th>DiabetesPedigreeFunction</th>\n",
              "      <th>Age</th>\n",
              "    </tr>\n",
              "  </thead>\n",
              "  <tbody>\n",
              "    <tr>\n",
              "      <th>Pregnancies</th>\n",
              "      <td>1.000000</td>\n",
              "      <td>0.112930</td>\n",
              "      <td>0.127463</td>\n",
              "      <td>-0.080033</td>\n",
              "      <td>-0.064909</td>\n",
              "      <td>0.012920</td>\n",
              "      <td>-0.025452</td>\n",
              "      <td>0.548665</td>\n",
              "    </tr>\n",
              "    <tr>\n",
              "      <th>Glucose</th>\n",
              "      <td>0.112930</td>\n",
              "      <td>1.000000</td>\n",
              "      <td>0.134993</td>\n",
              "      <td>0.050656</td>\n",
              "      <td>0.334175</td>\n",
              "      <td>0.222138</td>\n",
              "      <td>0.127004</td>\n",
              "      <td>0.255567</td>\n",
              "    </tr>\n",
              "    <tr>\n",
              "      <th>BloodPressure</th>\n",
              "      <td>0.127463</td>\n",
              "      <td>0.134993</td>\n",
              "      <td>1.000000</td>\n",
              "      <td>0.249063</td>\n",
              "      <td>0.117369</td>\n",
              "      <td>0.247275</td>\n",
              "      <td>0.059303</td>\n",
              "      <td>0.240416</td>\n",
              "    </tr>\n",
              "    <tr>\n",
              "      <th>SkinThickness</th>\n",
              "      <td>-0.080033</td>\n",
              "      <td>0.050656</td>\n",
              "      <td>0.249063</td>\n",
              "      <td>1.000000</td>\n",
              "      <td>0.472663</td>\n",
              "      <td>0.387055</td>\n",
              "      <td>0.214026</td>\n",
              "      <td>-0.121236</td>\n",
              "    </tr>\n",
              "    <tr>\n",
              "      <th>Insulin</th>\n",
              "      <td>-0.064909</td>\n",
              "      <td>0.334175</td>\n",
              "      <td>0.117369</td>\n",
              "      <td>0.472663</td>\n",
              "      <td>1.000000</td>\n",
              "      <td>0.198281</td>\n",
              "      <td>0.180284</td>\n",
              "      <td>-0.039887</td>\n",
              "    </tr>\n",
              "    <tr>\n",
              "      <th>BMI</th>\n",
              "      <td>0.012920</td>\n",
              "      <td>0.222138</td>\n",
              "      <td>0.247275</td>\n",
              "      <td>0.387055</td>\n",
              "      <td>0.198281</td>\n",
              "      <td>1.000000</td>\n",
              "      <td>0.163270</td>\n",
              "      <td>0.023921</td>\n",
              "    </tr>\n",
              "    <tr>\n",
              "      <th>DiabetesPedigreeFunction</th>\n",
              "      <td>-0.025452</td>\n",
              "      <td>0.127004</td>\n",
              "      <td>0.059303</td>\n",
              "      <td>0.214026</td>\n",
              "      <td>0.180284</td>\n",
              "      <td>0.163270</td>\n",
              "      <td>1.000000</td>\n",
              "      <td>0.006809</td>\n",
              "    </tr>\n",
              "    <tr>\n",
              "      <th>Age</th>\n",
              "      <td>0.548665</td>\n",
              "      <td>0.255567</td>\n",
              "      <td>0.240416</td>\n",
              "      <td>-0.121236</td>\n",
              "      <td>-0.039887</td>\n",
              "      <td>0.023921</td>\n",
              "      <td>0.006809</td>\n",
              "      <td>1.000000</td>\n",
              "    </tr>\n",
              "  </tbody>\n",
              "</table>\n",
              "</div>\n",
              "      <button class=\"colab-df-convert\" onclick=\"convertToInteractive('df-dc0bd6ab-2d2b-4a60-9e9f-853235592d49')\"\n",
              "              title=\"Convert this dataframe to an interactive table.\"\n",
              "              style=\"display:none;\">\n",
              "        \n",
              "  <svg xmlns=\"http://www.w3.org/2000/svg\" height=\"24px\"viewBox=\"0 0 24 24\"\n",
              "       width=\"24px\">\n",
              "    <path d=\"M0 0h24v24H0V0z\" fill=\"none\"/>\n",
              "    <path d=\"M18.56 5.44l.94 2.06.94-2.06 2.06-.94-2.06-.94-.94-2.06-.94 2.06-2.06.94zm-11 1L8.5 8.5l.94-2.06 2.06-.94-2.06-.94L8.5 2.5l-.94 2.06-2.06.94zm10 10l.94 2.06.94-2.06 2.06-.94-2.06-.94-.94-2.06-.94 2.06-2.06.94z\"/><path d=\"M17.41 7.96l-1.37-1.37c-.4-.4-.92-.59-1.43-.59-.52 0-1.04.2-1.43.59L10.3 9.45l-7.72 7.72c-.78.78-.78 2.05 0 2.83L4 21.41c.39.39.9.59 1.41.59.51 0 1.02-.2 1.41-.59l7.78-7.78 2.81-2.81c.8-.78.8-2.07 0-2.86zM5.41 20L4 18.59l7.72-7.72 1.47 1.35L5.41 20z\"/>\n",
              "  </svg>\n",
              "      </button>\n",
              "      \n",
              "  <style>\n",
              "    .colab-df-container {\n",
              "      display:flex;\n",
              "      flex-wrap:wrap;\n",
              "      gap: 12px;\n",
              "    }\n",
              "\n",
              "    .colab-df-convert {\n",
              "      background-color: #E8F0FE;\n",
              "      border: none;\n",
              "      border-radius: 50%;\n",
              "      cursor: pointer;\n",
              "      display: none;\n",
              "      fill: #1967D2;\n",
              "      height: 32px;\n",
              "      padding: 0 0 0 0;\n",
              "      width: 32px;\n",
              "    }\n",
              "\n",
              "    .colab-df-convert:hover {\n",
              "      background-color: #E2EBFA;\n",
              "      box-shadow: 0px 1px 2px rgba(60, 64, 67, 0.3), 0px 1px 3px 1px rgba(60, 64, 67, 0.15);\n",
              "      fill: #174EA6;\n",
              "    }\n",
              "\n",
              "    [theme=dark] .colab-df-convert {\n",
              "      background-color: #3B4455;\n",
              "      fill: #D2E3FC;\n",
              "    }\n",
              "\n",
              "    [theme=dark] .colab-df-convert:hover {\n",
              "      background-color: #434B5C;\n",
              "      box-shadow: 0px 1px 3px 1px rgba(0, 0, 0, 0.15);\n",
              "      filter: drop-shadow(0px 1px 2px rgba(0, 0, 0, 0.3));\n",
              "      fill: #FFFFFF;\n",
              "    }\n",
              "  </style>\n",
              "\n",
              "      <script>\n",
              "        const buttonEl =\n",
              "          document.querySelector('#df-dc0bd6ab-2d2b-4a60-9e9f-853235592d49 button.colab-df-convert');\n",
              "        buttonEl.style.display =\n",
              "          google.colab.kernel.accessAllowed ? 'block' : 'none';\n",
              "\n",
              "        async function convertToInteractive(key) {\n",
              "          const element = document.querySelector('#df-dc0bd6ab-2d2b-4a60-9e9f-853235592d49');\n",
              "          const dataTable =\n",
              "            await google.colab.kernel.invokeFunction('convertToInteractive',\n",
              "                                                     [key], {});\n",
              "          if (!dataTable) return;\n",
              "\n",
              "          const docLinkHtml = 'Like what you see? Visit the ' +\n",
              "            '<a target=\"_blank\" href=https://colab.research.google.com/notebooks/data_table.ipynb>data table notebook</a>'\n",
              "            + ' to learn more about interactive tables.';\n",
              "          element.innerHTML = '';\n",
              "          dataTable['output_type'] = 'display_data';\n",
              "          await google.colab.output.renderOutput(dataTable, element);\n",
              "          const docLink = document.createElement('div');\n",
              "          docLink.innerHTML = docLinkHtml;\n",
              "          element.appendChild(docLink);\n",
              "        }\n",
              "      </script>\n",
              "    </div>\n",
              "  </div>\n",
              "  "
            ]
          },
          "metadata": {},
          "execution_count": 18
        }
      ],
      "source": [
        "corr_matrix = pima.iloc[:,0:8].corr()\n",
        "corr_matrix"
      ]
    },
    {
      "cell_type": "code",
      "execution_count": null,
      "metadata": {
        "id": "q0XJ53bmn40u",
        "colab": {
          "base_uri": "https://localhost:8080/",
          "height": 607
        },
        "outputId": "bfcbc192-e685-48c1-a989-caae858ea071"
      },
      "outputs": [
        {
          "output_type": "display_data",
          "data": {
            "text/plain": [
              "<Figure size 576x576 with 2 Axes>"
            ],
            "image/png": "[encoded data removed]"
          },
          "metadata": {
            "needs_background": "light"
          }
        }
      ],
      "source": [
        "plt.figure(figsize=(8,8))\n",
        "sns.heatmap(corr_matrix, annot = True)\n",
        "\n",
        "# display the plot\n",
        "plt.show()"
      ]
    },
    {
      "cell_type": "markdown",
      "metadata": {
        "id": "btE0haD4n40v"
      },
      "source": [
        "correlation matrix is between -1 to 1. when correlation is tending more towards 1 it means features are proportional and if it is tending towards -1 it means features are inversely proportional.here we can see age and prgnancy , insulin and skinthickness , glucose and insulins are somehow proportional features. \n"
      ]
    },
    {
      "cell_type": "markdown",
      "metadata": {
        "id": "sYhA9-3rn40y"
      },
      "source": [
        "## Model Training"
      ]
    },
    {
      "cell_type": "markdown",
      "metadata": {
        "id": "9Oix41C6n40z"
      },
      "source": [
        "Split and scale the data"
      ]
    },
    {
      "cell_type": "code",
      "execution_count": null,
      "metadata": {
        "id": "Sa-bMCoxn400"
      },
      "outputs": [],
      "source": [
        "y = pima.Outcome\n",
        "x = pima.drop('Outcome', axis = 1)"
      ]
    },
    {
      "cell_type": "code",
      "execution_count": null,
      "metadata": {
        "id": "0id0VPi6n401"
      },
      "outputs": [],
      "source": [
        "from sklearn.preprocessing import StandardScaler\n",
        "scaler = StandardScaler()\n",
        "X = scaler.fit_transform(x)"
      ]
    },
    {
      "cell_type": "code",
      "execution_count": null,
      "metadata": {
        "id": "JJb4pNdFn41A"
      },
      "outputs": [],
      "source": [
        "from sklearn.model_selection import train_test_split\n",
        "x_train, x_test, y_train, y_test = train_test_split(x, y, test_size = 0.15, stratify=y,  random_state = 45)"
      ]
    },
    {
      "cell_type": "markdown",
      "metadata": {
        "id": "Uk_9okV8n41B"
      },
      "source": [
        "Train a Logistic Regression Model"
      ]
    },
    {
      "cell_type": "code",
      "execution_count": null,
      "metadata": {
        "id": "JQyd8H4fn41D",
        "colab": {
          "base_uri": "https://localhost:8080/"
        },
        "outputId": "b834c458-ca14-4f41-dccd-21a8017098c1"
      },
      "outputs": [
        {
          "output_type": "stream",
          "name": "stdout",
          "text": [
            "Accuracy of Logistic Regression model on the train set: 0.77\n",
            "Accuracy of the Logictic Regression model on the test set: 0.76\n"
          ]
        },
        {
          "output_type": "stream",
          "name": "stderr",
          "text": [
            "/usr/local/lib/python3.7/dist-packages/sklearn/linear_model/_logistic.py:818: ConvergenceWarning: lbfgs failed to converge (status=1):\n",
            "STOP: TOTAL NO. of ITERATIONS REACHED LIMIT.\n",
            "\n",
            "Increase the number of iterations (max_iter) or scale the data as shown in:\n",
            "    https://scikit-learn.org/stable/modules/preprocessing.html\n",
            "Please also refer to the documentation for alternative solver options:\n",
            "    https://scikit-learn.org/stable/modules/linear_model.html#logistic-regression\n",
            "  extra_warning_msg=_LOGISTIC_SOLVER_CONVERGENCE_MSG,\n"
          ]
        },
        {
          "output_type": "execute_result",
          "data": {
            "text/plain": [
              "array([[62, 13],\n",
              "       [23, 52]])"
            ]
          },
          "metadata": {},
          "execution_count": 23
        }
      ],
      "source": [
        "# import the model\n",
        "from sklearn.linear_model import LogisticRegression\n",
        "\n",
        "# Instantiate the model\n",
        "lr = LogisticRegression()\n",
        "\n",
        "# fit the model on the train set\n",
        "m = lr.fit(x_train, y_train)\n",
        "\n",
        "# Predict on x_test\n",
        "y_pred = m.predict(x_test)\n",
        "\n",
        "# Evaluate the model\n",
        "print('Accuracy of Logistic Regression model on the train set: {:.2f}'.format(m.score(x_train, y_train)))\n",
        "print('Accuracy of the Logictic Regression model on the test set: {:.2f}'.format(m.score(x_test, y_test)))\n",
        "\n",
        "from sklearn.metrics import confusion_matrix\n",
        "confusion_matrix(y_test, y_pred)"
      ]
    },
    {
      "cell_type": "markdown",
      "metadata": {
        "id": "__gBREFen41I"
      },
      "source": [
        "logistic regression gave accuracy of 77% on training set and 76% accuracy on test set. we got true positive : 62 which are positive and predicted positively and true negative : 52"
      ]
    },
    {
      "cell_type": "markdown",
      "metadata": {
        "id": "75EaJy-Nn41I"
      },
      "source": [
        "Train a Random Forest Model"
      ]
    },
    {
      "cell_type": "code",
      "execution_count": null,
      "metadata": {
        "id": "z_84UbJQn41J",
        "colab": {
          "base_uri": "https://localhost:8080/"
        },
        "outputId": "26178619-624a-4a2c-ba7b-b3e8be8e0336"
      },
      "outputs": [
        {
          "output_type": "stream",
          "name": "stdout",
          "text": [
            "Accuracy of Random Forest model on the train set: 0.82\n",
            "Accuracy of Random Forest model on the test set: 0.78\n"
          ]
        },
        {
          "output_type": "execute_result",
          "data": {
            "text/plain": [
              "array([[57, 18],\n",
              "       [15, 60]])"
            ]
          },
          "metadata": {},
          "execution_count": 24
        }
      ],
      "source": [
        "# Import the Model\n",
        "from sklearn.ensemble import RandomForestClassifier\n",
        "\n",
        "# Instantiate the model. \n",
        "rf = RandomForestClassifier(n_estimators=301, max_depth=3)\n",
        "\n",
        "# fit the model on the train set\n",
        "m2 = rf.fit(x_train, y_train)\n",
        "\n",
        "# Predict on x_test\n",
        "y_pred2 = m2.predict(x_test)\n",
        "\n",
        "# Evaluate the Model\n",
        "print('Accuracy of Random Forest model on the train set: {:.2f}'.format(m2.score(x_train, y_train)))\n",
        "print('Accuracy of Random Forest model on the test set: {:.2f}'.format(m2.score(x_test, y_test)))\n",
        "confusion_matrix(y_test, y_pred2)"
      ]
    },
    {
      "cell_type": "markdown",
      "metadata": {
        "id": "ioUpxE8Tn41L"
      },
      "source": [
        "during random forest classification , model gives 82% accuracy on training set and 78% accuracy on test set. true postive : 57 and true negative : 60"
      ]
    },
    {
      "cell_type": "markdown",
      "metadata": {
        "id": "R5FFLiZEn41M"
      },
      "source": [
        "Which model performed better"
      ]
    },
    {
      "cell_type": "markdown",
      "metadata": {
        "id": "r5zZb0OZn41M"
      },
      "source": [
        "logistic regression gives 77% accuracy on training data and random forest gives 82% accuracy on training data so accuracy of random forest is greater than logistic regression."
      ]
    }
  ],
  "metadata": {
    "kernelspec": {
      "display_name": "Python 3",
      "language": "python",
      "name": "python3"
    },
    "language_info": {
      "codemirror_mode": {
        "name": "ipython",
        "version": 3
      },
      "file_extension": ".py",
      "mimetype": "text/x-python",
      "name": "python",
      "nbconvert_exporter": "python",
      "pygments_lexer": "ipython3",
      "version": "3.7.6"
    },
    "toc": {
      "base_numbering": 1,
      "nav_menu": {},
      "number_sections": true,
      "sideBar": true,
      "skip_h1_title": false,
      "title_cell": "Table of Contents",
      "title_sidebar": "Contents",
      "toc_cell": false,
      "toc_position": {},
      "toc_section_display": true,
      "toc_window_display": false
    },
    "varInspector": {
      "cols": {
        "lenName": 16,
        "lenType": 16,
        "lenVar": 40
      },
      "kernels_config": {
        "python": {
          "delete_cmd_postfix": "",
          "delete_cmd_prefix": "del ",
          "library": "var_list.py",
          "varRefreshCmd": "print(var_dic_list())"
        },
        "r": {
          "delete_cmd_postfix": ") ",
          "delete_cmd_prefix": "rm(",
          "library": "var_list.r",
          "varRefreshCmd": "cat(var_dic_list()) "
        }
      },
      "types_to_exclude": [
        "module",
        "function",
        "builtin_function_or_method",
        "instance",
        "_Feature"
      ],
      "window_display": false
    },
    "colab": {
      "name": "Project_Diabetes_Prediction.ipynb",
      "provenance": [],
      "collapsed_sections": []
    }
  },
  "nbformat": 4,
  "nbformat_minor": 0
}